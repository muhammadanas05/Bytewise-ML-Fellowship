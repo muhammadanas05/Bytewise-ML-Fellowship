{
 "cells": [
  {
   "cell_type": "code",
   "execution_count": 127,
   "metadata": {},
   "outputs": [],
   "source": [
    "import pandas as pd\n",
    "import numpy as np"
   ]
  },
  {
   "cell_type": "code",
   "execution_count": 128,
   "metadata": {},
   "outputs": [],
   "source": [
    "file_path = 'bank_marketing.csv'\n",
    "data = pd.read_csv(file_path)"
   ]
  },
  {
   "cell_type": "markdown",
   "metadata": {},
   "source": [
    "## Creating DataFrames"
   ]
  },
  {
   "cell_type": "code",
   "execution_count": 129,
   "metadata": {},
   "outputs": [],
   "source": [
    "client_df = data[['client_id', 'age', 'job', 'marital', 'education', 'credit_default', 'mortgage']].copy()"
   ]
  },
  {
   "cell_type": "code",
   "execution_count": 130,
   "metadata": {},
   "outputs": [],
   "source": [
    "campaign_df = data[['client_id', 'month', 'day', 'contact_duration', 'number_contacts', 'previous_campaign_contacts', 'previous_outcome', 'campaign_outcome']].copy()"
   ]
  },
  {
   "cell_type": "code",
   "execution_count": 131,
   "metadata": {},
   "outputs": [],
   "source": [
    "economics_df = data[['client_id', 'cons_price_idx', 'euribor_three_months']].copy()"
   ]
  },
  {
   "cell_type": "markdown",
   "metadata": {},
   "source": [
    "## Editing the client dataset"
   ]
  },
  {
   "cell_type": "code",
   "execution_count": 132,
   "metadata": {},
   "outputs": [],
   "source": [
    "\n",
    "# Convert data types for optimization using .loc to avoid SettingWithCopyWarning\n",
    "client_df.loc[:, 'education'] = client_df[\"education\"].str.replace(\".\", \"_\")\n",
    "client_df.loc[:, 'credit_default'] = client_df[\"credit_default\"].replace(\"unknown\", np.NaN)\n",
    "client_df.loc[:, 'education'] = client_df[\"education\"].replace(\"unknown\", np.NaN)\n",
    "client_df.loc[:, 'job'] = client_df[\"job\"].str.replace(\".\", \"\")\n",
    "client_df.loc[:, 'age'] = client_df['age'].astype('int32')\n",
    "client_df.loc[:, 'job'] = client_df['job'].astype('category')\n",
    "client_df.loc[:, 'marital'] = client_df['marital'].astype('category')\n",
    "client_df.loc[:, 'education'] = client_df['education'].astype('category')\n",
    "client_df.loc[:, 'credit_default'] = client_df['credit_default'].astype('category')\n",
    "client_df.loc[:, 'mortgage'] = client_df['mortgage'].astype('category')"
   ]
  },
  {
   "cell_type": "markdown",
   "metadata": {},
   "source": [
    "## Editing the campaign dataset"
   ]
  },
  {
   "cell_type": "code",
   "execution_count": 133,
   "metadata": {},
   "outputs": [],
   "source": [
    "campaign_df['month'] = campaign_df[\"month\"].str.capitalize().astype('category')\n",
    "\n",
    "# Create the year column\n",
    "campaign_df[\"year\"] = \"2022\"\n",
    "\n",
    "# Convert day column to string\n",
    "campaign_df['day'] = campaign_df['day'].astype(str)\n",
    "\n",
    "# Convert numeric columns\n",
    "campaign_df['contact_duration'] = campaign_df['contact_duration'].astype('int32')\n",
    "campaign_df['number_contacts'] = campaign_df['number_contacts'].astype('int32')\n",
    "campaign_df['previous_campaign_contacts'] = campaign_df['previous_campaign_contacts'].astype('int32')\n",
    "\n",
    "# Convert previous outcome and campaign outcome to categorical\n",
    "campaign_df['previous_outcome'] = campaign_df['previous_outcome'].astype('category')\n",
    "campaign_df['campaign_outcome'] = campaign_df['campaign_outcome'].astype('category')\n",
    "\n",
    "# Convert categorical outcomes to boolean\n",
    "for col in [\"campaign_outcome\", \"previous_outcome\"]:\n",
    "    campaign_df[col] = campaign_df[col].astype(bool)\n",
    "\n",
    "# Convert month column to string\n",
    "campaign_df['month'] = campaign_df['month'].astype(str)\n",
    "\n",
    "# Create last_contact_date column\n",
    "campaign_df[\"last_contact_date\"] = campaign_df[\"year\"] + \"-\" + campaign_df[\"month\"] + \"-\" + campaign_df[\"day\"]\n",
    "campaign_df[\"last_contact_date\"] = pd.to_datetime(campaign_df[\"last_contact_date\"], format=\"%Y-%b-%d\")\n",
    "\n",
    "# Drop unnecessary columns\n",
    "campaign_df.drop(columns=[\"month\", \"day\", \"year\"], inplace=True)"
   ]
  },
  {
   "cell_type": "markdown",
   "metadata": {},
   "source": [
    "## Editing the economic dataset"
   ]
  },
  {
   "cell_type": "code",
   "execution_count": 134,
   "metadata": {},
   "outputs": [],
   "source": [
    "economics_df.loc[:, 'cons_price_idx'] = economics_df['cons_price_idx'].astype('float32')\n",
    "economics_df.loc[:, 'euribor_three_months'] = economics_df['euribor_three_months'].astype('float32')"
   ]
  },
  {
   "cell_type": "markdown",
   "metadata": {},
   "source": [
    "## Saving the DataFrames to CSV files"
   ]
  },
  {
   "cell_type": "code",
   "execution_count": 135,
   "metadata": {},
   "outputs": [],
   "source": [
    "client_df.to_csv('client.csv', index=False)\n",
    "campaign_df.to_csv('campaign.csv', index=False)\n",
    "economics_df.to_csv('economics.csv', index=False)"
   ]
  },
  {
   "cell_type": "markdown",
   "metadata": {},
   "source": [
    "## Display DataFrame"
   ]
  },
  {
   "cell_type": "code",
   "execution_count": 136,
   "metadata": {},
   "outputs": [
    {
     "name": "stdout",
     "output_type": "stream",
     "text": [
      "   client_id  age        job  marital    education credit_default mortgage\n",
      "0          0   56  housemaid  married     basic_4y             no       no\n",
      "1          1   57   services  married  high_school            NaN       no\n",
      "2          2   37   services  married  high_school             no      yes\n",
      "3          3   40      admin  married     basic_6y             no       no\n",
      "4          4   56   services  married  high_school             no       no\n"
     ]
    }
   ],
   "source": [
    "print(client_df.head())"
   ]
  },
  {
   "cell_type": "code",
   "execution_count": 137,
   "metadata": {},
   "outputs": [
    {
     "name": "stdout",
     "output_type": "stream",
     "text": [
      "   client_id  contact_duration  number_contacts  previous_campaign_contacts  \\\n",
      "0          0               261                1                           0   \n",
      "1          1               149                1                           0   \n",
      "2          2               226                1                           0   \n",
      "3          3               151                1                           0   \n",
      "4          4               307                1                           0   \n",
      "\n",
      "   previous_outcome  campaign_outcome last_contact_date  \n",
      "0              True              True        2022-05-13  \n",
      "1              True              True        2022-05-19  \n",
      "2              True              True        2022-05-23  \n",
      "3              True              True        2022-05-27  \n",
      "4              True              True        2022-05-03  \n"
     ]
    }
   ],
   "source": [
    "print(campaign_df.head())"
   ]
  },
  {
   "cell_type": "code",
   "execution_count": 138,
   "metadata": {},
   "outputs": [
    {
     "name": "stdout",
     "output_type": "stream",
     "text": [
      "   client_id  cons_price_idx  euribor_three_months\n",
      "0          0       93.994003                 4.857\n",
      "1          1       93.994003                 4.857\n",
      "2          2       93.994003                 4.857\n",
      "3          3       93.994003                 4.857\n",
      "4          4       93.994003                 4.857\n"
     ]
    }
   ],
   "source": [
    "print(economics_df.head())"
   ]
  }
 ],
 "metadata": {
  "kernelspec": {
   "display_name": "base",
   "language": "python",
   "name": "python3"
  },
  "language_info": {
   "codemirror_mode": {
    "name": "ipython",
    "version": 3
   },
   "file_extension": ".py",
   "mimetype": "text/x-python",
   "name": "python",
   "nbconvert_exporter": "python",
   "pygments_lexer": "ipython3",
   "version": "3.11.7"
  }
 },
 "nbformat": 4,
 "nbformat_minor": 2
}
