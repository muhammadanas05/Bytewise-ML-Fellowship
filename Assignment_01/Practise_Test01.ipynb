{
 "cells": [
  {
   "cell_type": "markdown",
   "metadata": {},
   "source": [
    "our First NumPy Array\n"
   ]
  },
  {
   "cell_type": "code",
   "execution_count": 4,
   "metadata": {},
   "outputs": [],
   "source": [
    "import numpy as np"
   ]
  },
  {
   "cell_type": "code",
   "execution_count": 5,
   "metadata": {},
   "outputs": [],
   "source": [
    "\n",
    "baseball = [180, 225, 121, 110, 218, 176, 219, 165]\n"
   ]
  },
  {
   "cell_type": "code",
   "execution_count": 6,
   "metadata": {},
   "outputs": [],
   "source": [
    "np_baseball = np.array(baseball)\n"
   ]
  },
  {
   "cell_type": "code",
   "execution_count": 7,
   "metadata": {},
   "outputs": [
    {
     "name": "stdout",
     "output_type": "stream",
     "text": [
      "<class 'numpy.ndarray'>\n"
     ]
    }
   ],
   "source": [
    "print(type(np_baseball))"
   ]
  },
  {
   "cell_type": "markdown",
   "metadata": {},
   "source": [
    "Baseball players' height"
   ]
  },
  {
   "cell_type": "code",
   "execution_count": 8,
   "metadata": {},
   "outputs": [],
   "source": [
    "height_in = [62, 85, 68, 74, 79, 81, 66, 63]  \n",
    "\n",
    "np_height_in = np.array(height_in)"
   ]
  },
  {
   "cell_type": "code",
   "execution_count": 9,
   "metadata": {},
   "outputs": [
    {
     "name": "stdout",
     "output_type": "stream",
     "text": [
      "Heights in inches: [62 85 68 74 79 81 66 63]\n"
     ]
    }
   ],
   "source": [
    "print(\"Heights in inches:\", np_height_in)"
   ]
  },
  {
   "cell_type": "code",
   "execution_count": 10,
   "metadata": {},
   "outputs": [],
   "source": [
    "np_height_m = np_height_in * 0.0254"
   ]
  },
  {
   "cell_type": "code",
   "execution_count": 11,
   "metadata": {},
   "outputs": [
    {
     "name": "stdout",
     "output_type": "stream",
     "text": [
      "Heights in meters: [1.5748 2.159  1.7272 1.8796 2.0066 2.0574 1.6764 1.6002]\n"
     ]
    }
   ],
   "source": [
    "\n",
    "print(\"Heights in meters:\", np_height_m)"
   ]
  },
  {
   "cell_type": "markdown",
   "metadata": {},
   "source": [
    "Baseball player's BMI"
   ]
  },
  {
   "cell_type": "code",
   "execution_count": 12,
   "metadata": {},
   "outputs": [],
   "source": [
    "weight_lb = [180, 215, 210, 210, 188, 176, 209, 200] \n"
   ]
  },
  {
   "cell_type": "code",
   "execution_count": 13,
   "metadata": {},
   "outputs": [],
   "source": [
    "np_weight_kg = np.array(weight_lb) * 0.453592"
   ]
  },
  {
   "cell_type": "code",
   "execution_count": 14,
   "metadata": {},
   "outputs": [
    {
     "name": "stdout",
     "output_type": "stream",
     "text": [
      "Weights in kilograms: [81.64656  97.52228  95.25432  95.25432  85.275296 79.832192 94.800728\n",
      " 90.7184  ]\n"
     ]
    }
   ],
   "source": [
    "print(\"Weights in kilograms:\", np_weight_kg)"
   ]
  },
  {
   "cell_type": "code",
   "execution_count": 15,
   "metadata": {},
   "outputs": [],
   "source": [
    "bmi = np_weight_kg / (np_height_m ** 2)"
   ]
  },
  {
   "cell_type": "code",
   "execution_count": 16,
   "metadata": {},
   "outputs": [
    {
     "name": "stdout",
     "output_type": "stream",
     "text": [
      "BMI: [32.92206584 20.92177665 31.93003704 26.96210579 21.1788132  18.859952\n",
      " 33.73310888 35.42801744]\n"
     ]
    }
   ],
   "source": [
    "print(\"BMI:\", bmi)"
   ]
  },
  {
   "cell_type": "markdown",
   "metadata": {},
   "source": [
    "Lightweight baseball players\n"
   ]
  },
  {
   "cell_type": "code",
   "execution_count": 17,
   "metadata": {},
   "outputs": [],
   "source": [
    "height_in = [62, 85, 68, 74, 79, 81, 66, 63]  \n",
    "weight_lb = [180, 215, 210, 210, 188, 176, 209, 200] "
   ]
  },
  {
   "cell_type": "code",
   "execution_count": 18,
   "metadata": {},
   "outputs": [],
   "source": [
    "np_height_in = np.array(height_in)\n",
    "np_height_m = np_height_in * 0.0254"
   ]
  },
  {
   "cell_type": "code",
   "execution_count": 19,
   "metadata": {},
   "outputs": [],
   "source": [
    "np_weight_kg = np.array(weight_lb) * 0.453592"
   ]
  },
  {
   "cell_type": "code",
   "execution_count": 20,
   "metadata": {},
   "outputs": [],
   "source": [
    "bmi = np_weight_kg / (np_height_m ** 2)\n",
    "\n",
    "light = bmi < 21"
   ]
  },
  {
   "cell_type": "code",
   "execution_count": 21,
   "metadata": {},
   "outputs": [
    {
     "name": "stdout",
     "output_type": "stream",
     "text": [
      "Boolean array where BMI is below 21: [False  True False False False  True False False]\n",
      "BMIs of players with BMI below 21: [20.92177665 18.859952  ]\n"
     ]
    }
   ],
   "source": [
    "print(\"Boolean array where BMI is below 21:\", light)\n",
    "\n",
    "print(\"BMIs of players with BMI below 21:\", bmi[light])"
   ]
  },
  {
   "cell_type": "markdown",
   "metadata": {},
   "source": [
    "Q)5"
   ]
  },
  {
   "cell_type": "code",
   "execution_count": 22,
   "metadata": {},
   "outputs": [],
   "source": [
    "positions = ['GK', 'M', 'A', 'D', 'M', 'A', 'GK', 'D', 'M', 'A']  \n",
    "heights = [191, 184, 185, 180, 175, 170, 195, 182, 178, 177]  "
   ]
  },
  {
   "cell_type": "code",
   "execution_count": 23,
   "metadata": {},
   "outputs": [],
   "source": [
    "np_positions = np.array(positions)\n",
    "np_heights = np.array(heights)"
   ]
  },
  {
   "cell_type": "code",
   "execution_count": 24,
   "metadata": {},
   "outputs": [],
   "source": [
    "gk_heights = np_heights[np_positions == 'GK']"
   ]
  },
  {
   "cell_type": "code",
   "execution_count": 25,
   "metadata": {},
   "outputs": [],
   "source": [
    "other_heights = np_heights[np_positions != 'GK']"
   ]
  },
  {
   "cell_type": "code",
   "execution_count": 26,
   "metadata": {},
   "outputs": [
    {
     "name": "stdout",
     "output_type": "stream",
     "text": [
      "Median height of goalkeepers: 193.0\n",
      "Median height of other players: 179.0\n"
     ]
    }
   ],
   "source": [
    "print(\"Median height of goalkeepers:\", np.median(gk_heights))\n",
    "\n",
    "print(\"Median height of other players:\", np.median(other_heights))"
   ]
  },
  {
   "cell_type": "markdown",
   "metadata": {},
   "source": []
  }
 ],
 "metadata": {
  "kernelspec": {
   "display_name": "base",
   "language": "python",
   "name": "python3"
  },
  "language_info": {
   "codemirror_mode": {
    "name": "ipython",
    "version": 3
   },
   "file_extension": ".py",
   "mimetype": "text/x-python",
   "name": "python",
   "nbconvert_exporter": "python",
   "pygments_lexer": "ipython3",
   "version": "3.11.7"
  }
 },
 "nbformat": 4,
 "nbformat_minor": 2
}
